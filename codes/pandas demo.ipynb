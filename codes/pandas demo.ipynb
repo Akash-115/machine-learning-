{
 "cells": [
  {
   "cell_type": "code",
   "execution_count": 1,
   "metadata": {},
   "outputs": [
    {
     "name": "stdout",
     "output_type": "stream",
     "text": [
      "<class 'dict'>\n",
      "   Day  orders  mcpaneer\n",
      "0    1    1000        20\n",
      "1    2     700        20\n",
      "2    3    6000        23\n",
      "3    4    1000        15\n",
      "4    5     400        10\n",
      "5    6     350        34\n"
     ]
    }
   ],
   "source": [
    "import pandas as pd\n",
    "#Dict to Pandas DF\n",
    "Mac = {'Day': [ 1 , 2 , 3 , 4 , 5 , 6 ] , \"orders\": [ 1000 , 700 , 6000 , 1000 , 400 , 350 ] ,\n",
    "           \"mcpaneer\": [ 20 , 20 , 23 , 15 , 10 , 34 ]}\n",
    "print(type(Mac))\n",
    "df = pd.DataFrame ( Mac )\n",
    "print ( df )\n"
   ]
  },
  {
   "cell_type": "code",
   "execution_count": 2,
   "metadata": {},
   "outputs": [
    {
     "name": "stdout",
     "output_type": "stream",
     "text": [
      "[[   1 1000   20]\n",
      " [   2  700   20]\n",
      " [   3 6000   23]\n",
      " [   4 1000   15]\n",
      " [   5  400   10]\n",
      " [   6  350   34]]\n"
     ]
    }
   ],
   "source": [
    "#Data Frame details\n",
    "df.dtypes\n",
    "df.columns\n",
    "df.axes\n",
    "df.ndim\n",
    "df.size\n",
    "df.shape\n",
    "df_np = df.values\n",
    "type(df_np)\n",
    "print(df_np)"
   ]
  },
  {
   "cell_type": "code",
   "execution_count": 3,
   "metadata": {},
   "outputs": [
    {
     "data": {
      "text/html": [
       "<div>\n",
       "<style scoped>\n",
       "    .dataframe tbody tr th:only-of-type {\n",
       "        vertical-align: middle;\n",
       "    }\n",
       "\n",
       "    .dataframe tbody tr th {\n",
       "        vertical-align: top;\n",
       "    }\n",
       "\n",
       "    .dataframe thead th {\n",
       "        text-align: right;\n",
       "    }\n",
       "</style>\n",
       "<table border=\"1\" class=\"dataframe\">\n",
       "  <thead>\n",
       "    <tr style=\"text-align: right;\">\n",
       "      <th></th>\n",
       "      <th>Day</th>\n",
       "      <th>orders</th>\n",
       "      <th>mcpaneer</th>\n",
       "    </tr>\n",
       "  </thead>\n",
       "  <tbody>\n",
       "    <tr>\n",
       "      <th>count</th>\n",
       "      <td>6.000000</td>\n",
       "      <td>6.000000</td>\n",
       "      <td>6.000000</td>\n",
       "    </tr>\n",
       "    <tr>\n",
       "      <th>mean</th>\n",
       "      <td>3.500000</td>\n",
       "      <td>1575.000000</td>\n",
       "      <td>20.333333</td>\n",
       "    </tr>\n",
       "    <tr>\n",
       "      <th>std</th>\n",
       "      <td>1.870829</td>\n",
       "      <td>2185.806487</td>\n",
       "      <td>8.115828</td>\n",
       "    </tr>\n",
       "    <tr>\n",
       "      <th>min</th>\n",
       "      <td>1.000000</td>\n",
       "      <td>350.000000</td>\n",
       "      <td>10.000000</td>\n",
       "    </tr>\n",
       "    <tr>\n",
       "      <th>25%</th>\n",
       "      <td>2.250000</td>\n",
       "      <td>475.000000</td>\n",
       "      <td>16.250000</td>\n",
       "    </tr>\n",
       "    <tr>\n",
       "      <th>50%</th>\n",
       "      <td>3.500000</td>\n",
       "      <td>850.000000</td>\n",
       "      <td>20.000000</td>\n",
       "    </tr>\n",
       "    <tr>\n",
       "      <th>75%</th>\n",
       "      <td>4.750000</td>\n",
       "      <td>1000.000000</td>\n",
       "      <td>22.250000</td>\n",
       "    </tr>\n",
       "    <tr>\n",
       "      <th>max</th>\n",
       "      <td>6.000000</td>\n",
       "      <td>6000.000000</td>\n",
       "      <td>34.000000</td>\n",
       "    </tr>\n",
       "  </tbody>\n",
       "</table>\n",
       "</div>"
      ],
      "text/plain": [
       "            Day       orders   mcpaneer\n",
       "count  6.000000     6.000000   6.000000\n",
       "mean   3.500000  1575.000000  20.333333\n",
       "std    1.870829  2185.806487   8.115828\n",
       "min    1.000000   350.000000  10.000000\n",
       "25%    2.250000   475.000000  16.250000\n",
       "50%    3.500000   850.000000  20.000000\n",
       "75%    4.750000  1000.000000  22.250000\n",
       "max    6.000000  6000.000000  34.000000"
      ]
     },
     "execution_count": 3,
     "metadata": {},
     "output_type": "execute_result"
    }
   ],
   "source": [
    "#Inbuilt methods\n",
    "#generate descriptive statistics (for numeric columns only)\n",
    "df.describe()"
   ]
  },
  {
   "cell_type": "code",
   "execution_count": 4,
   "metadata": {},
   "outputs": [
    {
     "data": {
      "text/plain": [
       "Day           1\n",
       "orders      350\n",
       "mcpaneer     10\n",
       "dtype: int64"
      ]
     },
     "execution_count": 4,
     "metadata": {},
     "output_type": "execute_result"
    }
   ],
   "source": [
    "#max,min values\n",
    "df.max()\n",
    "df.min()"
   ]
  },
  {
   "cell_type": "code",
   "execution_count": 5,
   "metadata": {},
   "outputs": [
    {
     "data": {
      "text/plain": [
       "Day           3.5\n",
       "orders      850.0\n",
       "mcpaneer     20.0\n",
       "dtype: float64"
      ]
     },
     "execution_count": 5,
     "metadata": {},
     "output_type": "execute_result"
    }
   ],
   "source": [
    "\n",
    "#return mean/median values for all numeric columns\n",
    "df.mean()\n",
    "df.median()\n"
   ]
  },
  {
   "cell_type": "code",
   "execution_count": 6,
   "metadata": {},
   "outputs": [
    {
     "data": {
      "text/plain": [
       "Day            1.870829\n",
       "orders      2185.806487\n",
       "mcpaneer       8.115828\n",
       "dtype: float64"
      ]
     },
     "execution_count": 6,
     "metadata": {},
     "output_type": "execute_result"
    }
   ],
   "source": [
    "#standard deviation\n",
    "df.std()"
   ]
  },
  {
   "cell_type": "code",
   "execution_count": 7,
   "metadata": {},
   "outputs": [
    {
     "data": {
      "text/html": [
       "<div>\n",
       "<style scoped>\n",
       "    .dataframe tbody tr th:only-of-type {\n",
       "        vertical-align: middle;\n",
       "    }\n",
       "\n",
       "    .dataframe tbody tr th {\n",
       "        vertical-align: top;\n",
       "    }\n",
       "\n",
       "    .dataframe thead th {\n",
       "        text-align: right;\n",
       "    }\n",
       "</style>\n",
       "<table border=\"1\" class=\"dataframe\">\n",
       "  <thead>\n",
       "    <tr style=\"text-align: right;\">\n",
       "      <th></th>\n",
       "      <th>Day</th>\n",
       "      <th>orders</th>\n",
       "      <th>mcpaneer</th>\n",
       "    </tr>\n",
       "  </thead>\n",
       "  <tbody>\n",
       "    <tr>\n",
       "      <th>5</th>\n",
       "      <td>6</td>\n",
       "      <td>350</td>\n",
       "      <td>34</td>\n",
       "    </tr>\n",
       "    <tr>\n",
       "      <th>3</th>\n",
       "      <td>4</td>\n",
       "      <td>1000</td>\n",
       "      <td>15</td>\n",
       "    </tr>\n",
       "  </tbody>\n",
       "</table>\n",
       "</div>"
      ],
      "text/plain": [
       "   Day  orders  mcpaneer\n",
       "5    6     350        34\n",
       "3    4    1000        15"
      ]
     },
     "execution_count": 7,
     "metadata": {},
     "output_type": "execute_result"
    }
   ],
   "source": [
    "#returns a random sample of the data frame\n",
    "df.sample(2)\n"
   ]
  },
  {
   "cell_type": "code",
   "execution_count": 8,
   "metadata": {},
   "outputs": [
    {
     "data": {
      "text/html": [
       "<div>\n",
       "<style scoped>\n",
       "    .dataframe tbody tr th:only-of-type {\n",
       "        vertical-align: middle;\n",
       "    }\n",
       "\n",
       "    .dataframe tbody tr th {\n",
       "        vertical-align: top;\n",
       "    }\n",
       "\n",
       "    .dataframe thead th {\n",
       "        text-align: right;\n",
       "    }\n",
       "</style>\n",
       "<table border=\"1\" class=\"dataframe\">\n",
       "  <thead>\n",
       "    <tr style=\"text-align: right;\">\n",
       "      <th></th>\n",
       "      <th>Day</th>\n",
       "      <th>orders</th>\n",
       "      <th>mcpaneer</th>\n",
       "    </tr>\n",
       "  </thead>\n",
       "  <tbody>\n",
       "    <tr>\n",
       "      <th>0</th>\n",
       "      <td>1</td>\n",
       "      <td>1000</td>\n",
       "      <td>20</td>\n",
       "    </tr>\n",
       "    <tr>\n",
       "      <th>1</th>\n",
       "      <td>2</td>\n",
       "      <td>700</td>\n",
       "      <td>20</td>\n",
       "    </tr>\n",
       "    <tr>\n",
       "      <th>2</th>\n",
       "      <td>3</td>\n",
       "      <td>6000</td>\n",
       "      <td>23</td>\n",
       "    </tr>\n",
       "    <tr>\n",
       "      <th>3</th>\n",
       "      <td>4</td>\n",
       "      <td>1000</td>\n",
       "      <td>15</td>\n",
       "    </tr>\n",
       "    <tr>\n",
       "      <th>4</th>\n",
       "      <td>5</td>\n",
       "      <td>400</td>\n",
       "      <td>10</td>\n",
       "    </tr>\n",
       "    <tr>\n",
       "      <th>5</th>\n",
       "      <td>6</td>\n",
       "      <td>350</td>\n",
       "      <td>34</td>\n",
       "    </tr>\n",
       "  </tbody>\n",
       "</table>\n",
       "</div>"
      ],
      "text/plain": [
       "   Day  orders  mcpaneer\n",
       "0    1    1000        20\n",
       "1    2     700        20\n",
       "2    3    6000        23\n",
       "3    4    1000        15\n",
       "4    5     400        10\n",
       "5    6     350        34"
      ]
     },
     "execution_count": 8,
     "metadata": {},
     "output_type": "execute_result"
    }
   ],
   "source": [
    "\n",
    "#drop all the records with missing values\n",
    "df.dropna()\n"
   ]
  },
  {
   "cell_type": "code",
   "execution_count": 9,
   "metadata": {},
   "outputs": [
    {
     "name": "stdout",
     "output_type": "stream",
     "text": [
      "0    20\n",
      "1    20\n",
      "2    23\n",
      "3    15\n",
      "4    10\n",
      "5    34\n",
      "Name: mcpaneer, dtype: int64\n",
      "0    1000\n",
      "1     700\n",
      "2    6000\n",
      "3    1000\n",
      "4     400\n",
      "5     350\n",
      "Name: orders, dtype: int64\n"
     ]
    }
   ],
   "source": [
    "#access individual columns\n",
    "print(df.mcpaneer)\n",
    "print(df['orders'])"
   ]
  },
  {
   "cell_type": "code",
   "execution_count": 10,
   "metadata": {},
   "outputs": [
    {
     "name": "stdout",
     "output_type": "stream",
     "text": [
      "    Day  orders  mcpaneer\n",
      "0     1    1000        20\n",
      "1     2     700        20\n",
      "2     3    6000        23\n",
      "3     4    1000        15\n",
      "4     5     400        10\n",
      "5     6     350        34\n",
      "6     1     300        12\n",
      "7     2     200        14\n",
      "8     3     300        45\n",
      "9     2     100        23\n",
      "10    2     400        12\n",
      "<pandas.core.groupby.generic.DataFrameGroupBy object at 0x000001B114A8F5F8>\n"
     ]
    },
    {
     "data": {
      "text/html": [
       "<div>\n",
       "<style scoped>\n",
       "    .dataframe tbody tr th:only-of-type {\n",
       "        vertical-align: middle;\n",
       "    }\n",
       "\n",
       "    .dataframe tbody tr th {\n",
       "        vertical-align: top;\n",
       "    }\n",
       "\n",
       "    .dataframe thead th {\n",
       "        text-align: right;\n",
       "    }\n",
       "</style>\n",
       "<table border=\"1\" class=\"dataframe\">\n",
       "  <thead>\n",
       "    <tr style=\"text-align: right;\">\n",
       "      <th></th>\n",
       "      <th>mcpaneer</th>\n",
       "    </tr>\n",
       "    <tr>\n",
       "      <th>Day</th>\n",
       "      <th></th>\n",
       "    </tr>\n",
       "  </thead>\n",
       "  <tbody>\n",
       "    <tr>\n",
       "      <th>1</th>\n",
       "      <td>16.00</td>\n",
       "    </tr>\n",
       "    <tr>\n",
       "      <th>2</th>\n",
       "      <td>17.25</td>\n",
       "    </tr>\n",
       "    <tr>\n",
       "      <th>3</th>\n",
       "      <td>34.00</td>\n",
       "    </tr>\n",
       "    <tr>\n",
       "      <th>4</th>\n",
       "      <td>15.00</td>\n",
       "    </tr>\n",
       "    <tr>\n",
       "      <th>5</th>\n",
       "      <td>10.00</td>\n",
       "    </tr>\n",
       "    <tr>\n",
       "      <th>6</th>\n",
       "      <td>34.00</td>\n",
       "    </tr>\n",
       "  </tbody>\n",
       "</table>\n",
       "</div>"
      ],
      "text/plain": [
       "     mcpaneer\n",
       "Day          \n",
       "1       16.00\n",
       "2       17.25\n",
       "3       34.00\n",
       "4       15.00\n",
       "5       10.00\n",
       "6       34.00"
      ]
     },
     "execution_count": 10,
     "metadata": {},
     "output_type": "execute_result"
    }
   ],
   "source": [
    "#Groupby\n",
    "Mac2 = {'Day': [ 1 , 2 , 3 , 4 , 5 , 6,1,2,3,2,2 ] , \"orders\": [ 1000 , 700 , 6000 , 1000 , 400 , 350,300,200,300,100,400 ] ,\n",
    "           \"mcpaneer\": [ 20 , 20 , 23 , 15 , 10 , 34,12,14,45,23,12]}\n",
    "df= pd.DataFrame(Mac2)\n",
    "print(df)\n",
    "df_rank = df.groupby(['Day'])\n",
    "print(df_rank)\n",
    "df_rank.mean()\n",
    "df.groupby('Day')[['mcpaneer']].mean()"
   ]
  },
  {
   "cell_type": "code",
   "execution_count": 11,
   "metadata": {},
   "outputs": [
    {
     "data": {
      "text/html": [
       "<div>\n",
       "<style scoped>\n",
       "    .dataframe tbody tr th:only-of-type {\n",
       "        vertical-align: middle;\n",
       "    }\n",
       "\n",
       "    .dataframe tbody tr th {\n",
       "        vertical-align: top;\n",
       "    }\n",
       "\n",
       "    .dataframe thead th {\n",
       "        text-align: right;\n",
       "    }\n",
       "</style>\n",
       "<table border=\"1\" class=\"dataframe\">\n",
       "  <thead>\n",
       "    <tr style=\"text-align: right;\">\n",
       "      <th></th>\n",
       "      <th>mcpaneer</th>\n",
       "      <th>orders</th>\n",
       "    </tr>\n",
       "  </thead>\n",
       "  <tbody>\n",
       "    <tr>\n",
       "      <th>0</th>\n",
       "      <td>20</td>\n",
       "      <td>1000</td>\n",
       "    </tr>\n",
       "    <tr>\n",
       "      <th>1</th>\n",
       "      <td>20</td>\n",
       "      <td>700</td>\n",
       "    </tr>\n",
       "    <tr>\n",
       "      <th>2</th>\n",
       "      <td>23</td>\n",
       "      <td>6000</td>\n",
       "    </tr>\n",
       "    <tr>\n",
       "      <th>3</th>\n",
       "      <td>15</td>\n",
       "      <td>1000</td>\n",
       "    </tr>\n",
       "    <tr>\n",
       "      <th>4</th>\n",
       "      <td>10</td>\n",
       "      <td>400</td>\n",
       "    </tr>\n",
       "    <tr>\n",
       "      <th>5</th>\n",
       "      <td>34</td>\n",
       "      <td>350</td>\n",
       "    </tr>\n",
       "    <tr>\n",
       "      <th>6</th>\n",
       "      <td>12</td>\n",
       "      <td>300</td>\n",
       "    </tr>\n",
       "    <tr>\n",
       "      <th>7</th>\n",
       "      <td>14</td>\n",
       "      <td>200</td>\n",
       "    </tr>\n",
       "    <tr>\n",
       "      <th>8</th>\n",
       "      <td>45</td>\n",
       "      <td>300</td>\n",
       "    </tr>\n",
       "    <tr>\n",
       "      <th>9</th>\n",
       "      <td>23</td>\n",
       "      <td>100</td>\n",
       "    </tr>\n",
       "    <tr>\n",
       "      <th>10</th>\n",
       "      <td>12</td>\n",
       "      <td>400</td>\n",
       "    </tr>\n",
       "  </tbody>\n",
       "</table>\n",
       "</div>"
      ],
      "text/plain": [
       "    mcpaneer  orders\n",
       "0         20    1000\n",
       "1         20     700\n",
       "2         23    6000\n",
       "3         15    1000\n",
       "4         10     400\n",
       "5         34     350\n",
       "6         12     300\n",
       "7         14     200\n",
       "8         45     300\n",
       "9         23     100\n",
       "10        12     400"
      ]
     },
     "execution_count": 11,
     "metadata": {},
     "output_type": "execute_result"
    }
   ],
   "source": [
    "#Select columns:\n",
    "df[['mcpaneer','orders']]"
   ]
  },
  {
   "cell_type": "code",
   "execution_count": 12,
   "metadata": {},
   "outputs": [
    {
     "name": "stdout",
     "output_type": "stream",
     "text": [
      "    Day  orders  mcpaneer\n",
      "2     3    6000        23\n",
      "0     1    1000        20\n",
      "3     4    1000        15\n",
      "1     2     700        20\n",
      "10    2     400        12\n",
      "4     5     400        10\n",
      "5     6     350        34\n",
      "8     3     300        45\n",
      "6     1     300        12\n",
      "7     2     200        14\n",
      "9     2     100        23\n"
     ]
    }
   ],
   "source": [
    "#Sorting\n",
    "df_sorted = df.sort_values( by =['orders', 'mcpaneer'], ascending = [False, False])\n",
    "print(df_sorted)"
   ]
  },
  {
   "cell_type": "code",
   "execution_count": 13,
   "metadata": {},
   "outputs": [
    {
     "data": {
      "text/plain": [
       "1.3988326208552224"
      ]
     },
     "execution_count": 13,
     "metadata": {},
     "output_type": "execute_result"
    }
   ],
   "source": [
    "#aggregating statistical measures\n",
    "df[['orders','mcpaneer']].agg(['min','mean','max'])\n",
    "df.orders.kurt()\n",
    "df.mcpaneer.skew()\n"
   ]
  },
  {
   "cell_type": "code",
   "execution_count": 14,
   "metadata": {},
   "outputs": [
    {
     "name": "stdout",
     "output_type": "stream",
     "text": [
      "            0    1     2     3    4    5    6    7    8    9    10\n",
      "Day          1    2     3     4    5    6    1    2    3    2    2\n",
      "orders    1000  700  6000  1000  400  350  300  200  300  100  400\n",
      "mcpaneer    20   20    23    15   10   34   12   14   45   23   12\n",
      "   Day  orders  mcpaneer\n",
      "0    1    1000        20\n",
      "1    2     700        20\n",
      "    Day  orders  mcpaneer\n",
      "9     2     100        23\n",
      "10    2     400        12\n"
     ]
    }
   ],
   "source": [
    "\n",
    "#List to Pandas DF\n",
    "bigMac = [[ 1 , 2 , 3 , 4 , 5 , 6 ] , [ 1000 , 700 , 6000 , 1000 , 400 , 350 ] ,\n",
    "           [ 20 , 20 , 23 , 15 , 10 , 34 ]]\n",
    "df1 = pd.DataFrame ( bigMac )\n",
    "df2 = df.transpose()\n",
    "print ( df2 )\n",
    "\n",
    "print ( df.head ( 2 ) )\n",
    "\n",
    "print ( df.tail ( 2 ) )\n",
    "\n"
   ]
  },
  {
   "cell_type": "code",
   "execution_count": 15,
   "metadata": {},
   "outputs": [
    {
     "name": "stdout",
     "output_type": "stream",
     "text": [
      "   Mcveggie  Mcchicken  Frenchfries\n",
      "0        90          1           45\n",
      "1        70          2           45\n",
      "2        60          3           67\n"
     ]
    }
   ],
   "source": [
    "\n",
    "# Merging the dataframes\n",
    "df1 = pd.DataFrame ( {\"Mcveggie\": [ 80 , 90 , 70 , 60 ] , \"Mcchicken\": [ 2 , 1 , 2 , 3 ] , \"Frenchfries\": [ 50 , 45 , 45 , 67 ]} ,\n",
    "                     index=[ 2001 , 2002 , 2003 , 2004 ] )\n",
    "\n",
    "df2 = pd.DataFrame ( {\"Mcveggie\": [ 80 , 90 , 70 , 60 ] , \"Mcchicken\": [ 2 , 1 , 2 , 3 ] , \"Frenchfries\": [ 60 , 45 , 45 , 67 ]} ,\n",
    "                     index=[ 2005 , 2006 , 2007 , 2008 ] )\n",
    "\n",
    "merged = pd.merge ( df1 , df2 )\n",
    "\n",
    "print ( merged )\n"
   ]
  },
  {
   "cell_type": "code",
   "execution_count": 16,
   "metadata": {},
   "outputs": [
    {
     "name": "stdout",
     "output_type": "stream",
     "text": [
      "   Mcveggie  Mcchicken_x  Frenchfries_x  Mcchicken_y  Frenchfries_y\n",
      "0        80            2             50            2             60\n",
      "1        90            1             45            1             45\n",
      "2        70            5             45            2             45\n",
      "3        60            3             67            3             67\n"
     ]
    }
   ],
   "source": [
    "# Merging on one specific column\n",
    "df1 = pd.DataFrame ( {\"Mcveggie\": [ 80 , 90 , 70 , 60 ] , \"Mcchicken\": [ 2 , 1 , 5 , 3 ] , \"Frenchfries\": [ 50 , 45 , 45 , 67 ]} ,\n",
    "                     index=[ 2001 , 2002 , 2003 , 2004 ] )\n",
    "\n",
    "df2 = pd.DataFrame ( {\"Mcveggie\": [ 80 , 90 , 70 , 60 ] , \"Mcchicken\": [ 2 , 1 , 2 , 3 ] , \"Frenchfries\": [ 60 , 45 , 45 , 67 ]} ,\n",
    "                     index=[ 2005 , 2006 , 2007 , 2008 ] )\n",
    "\n",
    "merged = pd.merge ( df1 , df2 , on=\"Mcveggie\" )\n",
    "\n",
    "print ( merged )\n"
   ]
  },
  {
   "cell_type": "code",
   "execution_count": 17,
   "metadata": {},
   "outputs": [
    {
     "name": "stdout",
     "output_type": "stream",
     "text": [
      "      Mcchicken  Frenchfries  Low_Fat_Mcveggie  Mcfloat\n",
      "2001          2           50              50.0      1.0\n",
      "2002          1           45               NaN      NaN\n",
      "2003          2           45              45.0      3.0\n",
      "2004          3           67              34.0      6.0\n"
     ]
    }
   ],
   "source": [
    "# Joining two Data Frames\n",
    "\n",
    "df1 = pd.DataFrame ( {\"Mcchicken\": [ 2 , 1 , 2 , 3 ] , \"Frenchfries\": [ 50 , 45 , 45 , 67 ]} ,\n",
    "                     index=[ 2001 , 2002 , 2003 , 2004 ] )\n",
    "\n",
    "df2 = pd.DataFrame ( {\"Low_Fat_Mcveggie\": [ 50 , 45 , 67 , 34 ] , \"Mcfloat\": [ 1 , 3 , 5 , 6 ]} ,\n",
    "                     index=[ 2001 , 2003 , 2005 , 2004 ] )\n",
    "\n",
    "joined = df1.join ( df2 )\n",
    "print ( joined )"
   ]
  },
  {
   "cell_type": "code",
   "execution_count": 18,
   "metadata": {},
   "outputs": [
    {
     "name": "stdout",
     "output_type": "stream",
     "text": [
      "      Mcveggie  Mcchicken  Frenchfries\n",
      "2001        80          2           50\n",
      "2002        90          1           45\n",
      "2003        70          2           45\n",
      "2004        60          3           67\n",
      "2005        80          2           50\n",
      "2006        90          1           45\n",
      "2007        70          2           45\n",
      "2008        60          3           67\n",
      "      Mcveggie  Mcchicken  Frenchfries  Mcveggie  Mcchicken  Frenchfries\n",
      "2001      80.0        2.0         50.0       NaN        NaN          NaN\n",
      "2002      90.0        1.0         45.0       NaN        NaN          NaN\n",
      "2003      70.0        2.0         45.0       NaN        NaN          NaN\n",
      "2004      60.0        3.0         67.0       NaN        NaN          NaN\n",
      "2005       NaN        NaN          NaN      80.0        2.0         50.0\n",
      "2006       NaN        NaN          NaN      90.0        1.0         45.0\n",
      "2007       NaN        NaN          NaN      70.0        2.0         45.0\n",
      "2008       NaN        NaN          NaN      60.0        3.0         67.0\n"
     ]
    }
   ],
   "source": [
    "\n",
    "# Concatination of two Data Frames\n",
    "df1 = pd.DataFrame ( {\"Mcveggie\": [ 80 , 90 , 70 , 60 ] , \"Mcchicken\": [ 2 , 1 , 2 , 3 ] , \"Frenchfries\": [ 50 , 45 , 45 , 67 ]} ,\n",
    "                     index=[ 2001 , 2002 , 2003 , 2004 ] )\n",
    "\n",
    "df2 = pd.DataFrame ( {\"Mcveggie\": [ 80 , 90 , 70 , 60 ] , \"Mcchicken\": [ 2 , 1 , 2 , 3 ] , \"Frenchfries\": [ 50 , 45 , 45 , 67 ]} ,\n",
    "                     index=[ 2005 , 2006 , 2007 , 2008 ] )\n",
    "\n",
    "concat = pd.concat ( [ df1 , df2 ] )\n",
    "\n",
    "print ( concat )\n",
    "\n",
    "# specify axis=1 in order to join, merge or cancatenate along the columns\n",
    "df1 = pd.DataFrame ( {\"Mcveggie\": [ 80 , 90 , 70 , 60 ] , \"Mcchicken\": [ 2 , 1 , 2 , 3 ] , \"Frenchfries\": [ 50 , 45 , 45 , 67 ]} ,\n",
    "                     index=[ 2001 , 2002 , 2003 , 2004 ] )\n",
    "\n",
    "df2 = pd.DataFrame ( {\"Mcveggie\": [ 80 , 90 , 70 , 60 ] , \"Mcchicken\": [ 2 , 1 , 2 , 3 ] , \"Frenchfries\": [ 50 , 45 , 45 , 67 ]} ,\n",
    "                     index=[ 2005 , 2006 , 2007 , 2008 ] )\n",
    "\n",
    "concat = pd.concat ( [ df1 , df2 ] , axis=1 )\n",
    "\n",
    "print ( concat )"
   ]
  },
  {
   "cell_type": "code",
   "execution_count": 19,
   "metadata": {},
   "outputs": [
    {
     "name": "stdout",
     "output_type": "stream",
     "text": [
      "     orders  mcpaneer\n",
      "Day                  \n",
      "1       200        20\n",
      "2       100        45\n",
      "3       230        60\n",
      "4       300        10\n",
      "   Day  customers  mcpaneer\n",
      "0    1        200        20\n",
      "1    2        100        45\n",
      "2    3        230        60\n",
      "3    4        300        10\n"
     ]
    }
   ],
   "source": [
    "# set index\n",
    "\n",
    "df = pd.DataFrame (\n",
    "    {\"Day\": [ 1 , 2 , 3 , 4 ] , \"orders\": [ 200 , 100 , 230 , 300 ] , \"mcpaneer\": [ 20 , 45 , 60 , 10 ]} )\n",
    "\n",
    "df.set_index ( \"Day\" , inplace=True )\n",
    "\n",
    "print ( df )\n",
    "\n",
    "# Change column Headers\n",
    "df = pd.DataFrame (\n",
    "    {\"Day\": [ 1 , 2 , 3 , 4 ] , \"orders\": [ 200 , 100 , 230 , 300 ] , \"mcpaneer\": [ 20 , 45 , 60 , 10 ]} )\n",
    "\n",
    "df = df.rename ( columns={\"orders\": \"customers\"} )\n",
    "\n",
    "print ( df )"
   ]
  },
  {
   "cell_type": "code",
   "execution_count": 24,
   "metadata": {},
   "outputs": [
    {
     "ename": "FileNotFoundError",
     "evalue": "[Errno 2] File b'C:\\\\Users\\\\admin\\\\Downloads\\\\python\\\\python basis\\\\basicsclass1\\\\example.csv' does not exist: b'C:\\\\Users\\\\admin\\\\Downloads\\\\python\\\\python basis\\\\basicsclass1\\\\example.csv'",
     "output_type": "error",
     "traceback": [
      "\u001b[1;31m---------------------------------------------------------------------------\u001b[0m",
      "\u001b[1;31mFileNotFoundError\u001b[0m                         Traceback (most recent call last)",
      "\u001b[1;32m<ipython-input-24-8c1566768f56>\u001b[0m in \u001b[0;36m<module>\u001b[1;34m\u001b[0m\n\u001b[0;32m      1\u001b[0m \u001b[1;31m# Data Munging\u001b[0m\u001b[1;33m\u001b[0m\u001b[1;33m\u001b[0m\u001b[1;33m\u001b[0m\u001b[0m\n\u001b[1;32m----> 2\u001b[1;33m \u001b[0mexample\u001b[0m \u001b[1;33m=\u001b[0m \u001b[0mpd\u001b[0m\u001b[1;33m.\u001b[0m\u001b[0mread_csv\u001b[0m \u001b[1;33m(\u001b[0m \u001b[1;34m\"C:\\\\Users\\\\admin\\\\Downloads\\\\python\\\\python basis\\\\basicsclass1\\\\example.csv\"\u001b[0m \u001b[1;33m,\u001b[0m\u001b[0mindex_col\u001b[0m\u001b[1;33m=\u001b[0m\u001b[1;36m0\u001b[0m \u001b[1;33m)\u001b[0m\u001b[1;33m\u001b[0m\u001b[1;33m\u001b[0m\u001b[0m\n\u001b[0m\u001b[0;32m      3\u001b[0m \u001b[0mexample\u001b[0m\u001b[1;33m.\u001b[0m\u001b[0mto_html\u001b[0m \u001b[1;33m(\u001b[0m \u001b[1;34m'sample.html'\u001b[0m \u001b[1;33m)\u001b[0m\u001b[1;33m\u001b[0m\u001b[1;33m\u001b[0m\u001b[0m\n",
      "\u001b[1;32m~\\Anaconda3\\lib\\site-packages\\pandas\\io\\parsers.py\u001b[0m in \u001b[0;36mparser_f\u001b[1;34m(filepath_or_buffer, sep, delimiter, header, names, index_col, usecols, squeeze, prefix, mangle_dupe_cols, dtype, engine, converters, true_values, false_values, skipinitialspace, skiprows, skipfooter, nrows, na_values, keep_default_na, na_filter, verbose, skip_blank_lines, parse_dates, infer_datetime_format, keep_date_col, date_parser, dayfirst, iterator, chunksize, compression, thousands, decimal, lineterminator, quotechar, quoting, doublequote, escapechar, comment, encoding, dialect, tupleize_cols, error_bad_lines, warn_bad_lines, delim_whitespace, low_memory, memory_map, float_precision)\u001b[0m\n\u001b[0;32m    700\u001b[0m                     skip_blank_lines=skip_blank_lines)\n\u001b[0;32m    701\u001b[0m \u001b[1;33m\u001b[0m\u001b[0m\n\u001b[1;32m--> 702\u001b[1;33m         \u001b[1;32mreturn\u001b[0m \u001b[0m_read\u001b[0m\u001b[1;33m(\u001b[0m\u001b[0mfilepath_or_buffer\u001b[0m\u001b[1;33m,\u001b[0m \u001b[0mkwds\u001b[0m\u001b[1;33m)\u001b[0m\u001b[1;33m\u001b[0m\u001b[1;33m\u001b[0m\u001b[0m\n\u001b[0m\u001b[0;32m    703\u001b[0m \u001b[1;33m\u001b[0m\u001b[0m\n\u001b[0;32m    704\u001b[0m     \u001b[0mparser_f\u001b[0m\u001b[1;33m.\u001b[0m\u001b[0m__name__\u001b[0m \u001b[1;33m=\u001b[0m \u001b[0mname\u001b[0m\u001b[1;33m\u001b[0m\u001b[1;33m\u001b[0m\u001b[0m\n",
      "\u001b[1;32m~\\Anaconda3\\lib\\site-packages\\pandas\\io\\parsers.py\u001b[0m in \u001b[0;36m_read\u001b[1;34m(filepath_or_buffer, kwds)\u001b[0m\n\u001b[0;32m    427\u001b[0m \u001b[1;33m\u001b[0m\u001b[0m\n\u001b[0;32m    428\u001b[0m     \u001b[1;31m# Create the parser.\u001b[0m\u001b[1;33m\u001b[0m\u001b[1;33m\u001b[0m\u001b[1;33m\u001b[0m\u001b[0m\n\u001b[1;32m--> 429\u001b[1;33m     \u001b[0mparser\u001b[0m \u001b[1;33m=\u001b[0m \u001b[0mTextFileReader\u001b[0m\u001b[1;33m(\u001b[0m\u001b[0mfilepath_or_buffer\u001b[0m\u001b[1;33m,\u001b[0m \u001b[1;33m**\u001b[0m\u001b[0mkwds\u001b[0m\u001b[1;33m)\u001b[0m\u001b[1;33m\u001b[0m\u001b[1;33m\u001b[0m\u001b[0m\n\u001b[0m\u001b[0;32m    430\u001b[0m \u001b[1;33m\u001b[0m\u001b[0m\n\u001b[0;32m    431\u001b[0m     \u001b[1;32mif\u001b[0m \u001b[0mchunksize\u001b[0m \u001b[1;32mor\u001b[0m \u001b[0miterator\u001b[0m\u001b[1;33m:\u001b[0m\u001b[1;33m\u001b[0m\u001b[1;33m\u001b[0m\u001b[0m\n",
      "\u001b[1;32m~\\Anaconda3\\lib\\site-packages\\pandas\\io\\parsers.py\u001b[0m in \u001b[0;36m__init__\u001b[1;34m(self, f, engine, **kwds)\u001b[0m\n\u001b[0;32m    893\u001b[0m             \u001b[0mself\u001b[0m\u001b[1;33m.\u001b[0m\u001b[0moptions\u001b[0m\u001b[1;33m[\u001b[0m\u001b[1;34m'has_index_names'\u001b[0m\u001b[1;33m]\u001b[0m \u001b[1;33m=\u001b[0m \u001b[0mkwds\u001b[0m\u001b[1;33m[\u001b[0m\u001b[1;34m'has_index_names'\u001b[0m\u001b[1;33m]\u001b[0m\u001b[1;33m\u001b[0m\u001b[1;33m\u001b[0m\u001b[0m\n\u001b[0;32m    894\u001b[0m \u001b[1;33m\u001b[0m\u001b[0m\n\u001b[1;32m--> 895\u001b[1;33m         \u001b[0mself\u001b[0m\u001b[1;33m.\u001b[0m\u001b[0m_make_engine\u001b[0m\u001b[1;33m(\u001b[0m\u001b[0mself\u001b[0m\u001b[1;33m.\u001b[0m\u001b[0mengine\u001b[0m\u001b[1;33m)\u001b[0m\u001b[1;33m\u001b[0m\u001b[1;33m\u001b[0m\u001b[0m\n\u001b[0m\u001b[0;32m    896\u001b[0m \u001b[1;33m\u001b[0m\u001b[0m\n\u001b[0;32m    897\u001b[0m     \u001b[1;32mdef\u001b[0m \u001b[0mclose\u001b[0m\u001b[1;33m(\u001b[0m\u001b[0mself\u001b[0m\u001b[1;33m)\u001b[0m\u001b[1;33m:\u001b[0m\u001b[1;33m\u001b[0m\u001b[1;33m\u001b[0m\u001b[0m\n",
      "\u001b[1;32m~\\Anaconda3\\lib\\site-packages\\pandas\\io\\parsers.py\u001b[0m in \u001b[0;36m_make_engine\u001b[1;34m(self, engine)\u001b[0m\n\u001b[0;32m   1120\u001b[0m     \u001b[1;32mdef\u001b[0m \u001b[0m_make_engine\u001b[0m\u001b[1;33m(\u001b[0m\u001b[0mself\u001b[0m\u001b[1;33m,\u001b[0m \u001b[0mengine\u001b[0m\u001b[1;33m=\u001b[0m\u001b[1;34m'c'\u001b[0m\u001b[1;33m)\u001b[0m\u001b[1;33m:\u001b[0m\u001b[1;33m\u001b[0m\u001b[1;33m\u001b[0m\u001b[0m\n\u001b[0;32m   1121\u001b[0m         \u001b[1;32mif\u001b[0m \u001b[0mengine\u001b[0m \u001b[1;33m==\u001b[0m \u001b[1;34m'c'\u001b[0m\u001b[1;33m:\u001b[0m\u001b[1;33m\u001b[0m\u001b[1;33m\u001b[0m\u001b[0m\n\u001b[1;32m-> 1122\u001b[1;33m             \u001b[0mself\u001b[0m\u001b[1;33m.\u001b[0m\u001b[0m_engine\u001b[0m \u001b[1;33m=\u001b[0m \u001b[0mCParserWrapper\u001b[0m\u001b[1;33m(\u001b[0m\u001b[0mself\u001b[0m\u001b[1;33m.\u001b[0m\u001b[0mf\u001b[0m\u001b[1;33m,\u001b[0m \u001b[1;33m**\u001b[0m\u001b[0mself\u001b[0m\u001b[1;33m.\u001b[0m\u001b[0moptions\u001b[0m\u001b[1;33m)\u001b[0m\u001b[1;33m\u001b[0m\u001b[1;33m\u001b[0m\u001b[0m\n\u001b[0m\u001b[0;32m   1123\u001b[0m         \u001b[1;32melse\u001b[0m\u001b[1;33m:\u001b[0m\u001b[1;33m\u001b[0m\u001b[1;33m\u001b[0m\u001b[0m\n\u001b[0;32m   1124\u001b[0m             \u001b[1;32mif\u001b[0m \u001b[0mengine\u001b[0m \u001b[1;33m==\u001b[0m \u001b[1;34m'python'\u001b[0m\u001b[1;33m:\u001b[0m\u001b[1;33m\u001b[0m\u001b[1;33m\u001b[0m\u001b[0m\n",
      "\u001b[1;32m~\\Anaconda3\\lib\\site-packages\\pandas\\io\\parsers.py\u001b[0m in \u001b[0;36m__init__\u001b[1;34m(self, src, **kwds)\u001b[0m\n\u001b[0;32m   1851\u001b[0m         \u001b[0mkwds\u001b[0m\u001b[1;33m[\u001b[0m\u001b[1;34m'usecols'\u001b[0m\u001b[1;33m]\u001b[0m \u001b[1;33m=\u001b[0m \u001b[0mself\u001b[0m\u001b[1;33m.\u001b[0m\u001b[0musecols\u001b[0m\u001b[1;33m\u001b[0m\u001b[1;33m\u001b[0m\u001b[0m\n\u001b[0;32m   1852\u001b[0m \u001b[1;33m\u001b[0m\u001b[0m\n\u001b[1;32m-> 1853\u001b[1;33m         \u001b[0mself\u001b[0m\u001b[1;33m.\u001b[0m\u001b[0m_reader\u001b[0m \u001b[1;33m=\u001b[0m \u001b[0mparsers\u001b[0m\u001b[1;33m.\u001b[0m\u001b[0mTextReader\u001b[0m\u001b[1;33m(\u001b[0m\u001b[0msrc\u001b[0m\u001b[1;33m,\u001b[0m \u001b[1;33m**\u001b[0m\u001b[0mkwds\u001b[0m\u001b[1;33m)\u001b[0m\u001b[1;33m\u001b[0m\u001b[1;33m\u001b[0m\u001b[0m\n\u001b[0m\u001b[0;32m   1854\u001b[0m         \u001b[0mself\u001b[0m\u001b[1;33m.\u001b[0m\u001b[0munnamed_cols\u001b[0m \u001b[1;33m=\u001b[0m \u001b[0mself\u001b[0m\u001b[1;33m.\u001b[0m\u001b[0m_reader\u001b[0m\u001b[1;33m.\u001b[0m\u001b[0munnamed_cols\u001b[0m\u001b[1;33m\u001b[0m\u001b[1;33m\u001b[0m\u001b[0m\n\u001b[0;32m   1855\u001b[0m \u001b[1;33m\u001b[0m\u001b[0m\n",
      "\u001b[1;32mpandas/_libs/parsers.pyx\u001b[0m in \u001b[0;36mpandas._libs.parsers.TextReader.__cinit__\u001b[1;34m()\u001b[0m\n",
      "\u001b[1;32mpandas/_libs/parsers.pyx\u001b[0m in \u001b[0;36mpandas._libs.parsers.TextReader._setup_parser_source\u001b[1;34m()\u001b[0m\n",
      "\u001b[1;31mFileNotFoundError\u001b[0m: [Errno 2] File b'C:\\\\Users\\\\admin\\\\Downloads\\\\python\\\\python basis\\\\basicsclass1\\\\example.csv' does not exist: b'C:\\\\Users\\\\admin\\\\Downloads\\\\python\\\\python basis\\\\basicsclass1\\\\example.csv'"
     ]
    }
   ],
   "source": [
    "# Data Munging\n",
    "example = pd.read_csv ( \"C:\\\\Users\\\\admin\\\\Downloads\\\\python\\\\python basis\\\\basicsclass1\\\\example.csv\" ,index_col=0 )\n",
    "example.to_html ( 'sample.html' )"
   ]
  },
  {
   "cell_type": "code",
   "execution_count": 25,
   "metadata": {},
   "outputs": [],
   "source": [
    "# Read csv\n",
    "# Read CSV File\n",
    "data = pd.read_csv ( 'C:\\\\Users\\\\admin\\\\Downloads\\\\python\\\\python basis\\\\basics class1\\\\example.csv' )\n"
   ]
  },
  {
   "cell_type": "code",
   "execution_count": 26,
   "metadata": {},
   "outputs": [
    {
     "data": {
      "text/html": [
       "<div>\n",
       "<style scoped>\n",
       "    .dataframe tbody tr th:only-of-type {\n",
       "        vertical-align: middle;\n",
       "    }\n",
       "\n",
       "    .dataframe tbody tr th {\n",
       "        vertical-align: top;\n",
       "    }\n",
       "\n",
       "    .dataframe thead th {\n",
       "        text-align: right;\n",
       "    }\n",
       "</style>\n",
       "<table border=\"1\" class=\"dataframe\">\n",
       "  <thead>\n",
       "    <tr style=\"text-align: right;\">\n",
       "      <th></th>\n",
       "      <th>1</th>\n",
       "      <th>2</th>\n",
       "      <th>3</th>\n",
       "      <th>4</th>\n",
       "      <th>5</th>\n",
       "      <th>6</th>\n",
       "      <th>7</th>\n",
       "      <th>8</th>\n",
       "      <th>9</th>\n",
       "      <th>10</th>\n",
       "    </tr>\n",
       "  </thead>\n",
       "  <tbody>\n",
       "    <tr>\n",
       "      <th>0</th>\n",
       "      <td>2</td>\n",
       "      <td>3</td>\n",
       "      <td>4</td>\n",
       "      <td>5</td>\n",
       "      <td>6</td>\n",
       "      <td>7</td>\n",
       "      <td>8</td>\n",
       "      <td>9</td>\n",
       "      <td>10</td>\n",
       "      <td>11</td>\n",
       "    </tr>\n",
       "    <tr>\n",
       "      <th>1</th>\n",
       "      <td>3</td>\n",
       "      <td>4</td>\n",
       "      <td>5</td>\n",
       "      <td>6</td>\n",
       "      <td>7</td>\n",
       "      <td>8</td>\n",
       "      <td>9</td>\n",
       "      <td>10</td>\n",
       "      <td>11</td>\n",
       "      <td>12</td>\n",
       "    </tr>\n",
       "    <tr>\n",
       "      <th>2</th>\n",
       "      <td>4</td>\n",
       "      <td>5</td>\n",
       "      <td>6</td>\n",
       "      <td>7</td>\n",
       "      <td>8</td>\n",
       "      <td>9</td>\n",
       "      <td>10</td>\n",
       "      <td>11</td>\n",
       "      <td>12</td>\n",
       "      <td>13</td>\n",
       "    </tr>\n",
       "    <tr>\n",
       "      <th>3</th>\n",
       "      <td>5</td>\n",
       "      <td>6</td>\n",
       "      <td>7</td>\n",
       "      <td>8</td>\n",
       "      <td>9</td>\n",
       "      <td>10</td>\n",
       "      <td>11</td>\n",
       "      <td>12</td>\n",
       "      <td>13</td>\n",
       "      <td>14</td>\n",
       "    </tr>\n",
       "    <tr>\n",
       "      <th>4</th>\n",
       "      <td>6</td>\n",
       "      <td>7</td>\n",
       "      <td>8</td>\n",
       "      <td>9</td>\n",
       "      <td>10</td>\n",
       "      <td>11</td>\n",
       "      <td>12</td>\n",
       "      <td>13</td>\n",
       "      <td>14</td>\n",
       "      <td>15</td>\n",
       "    </tr>\n",
       "    <tr>\n",
       "      <th>5</th>\n",
       "      <td>7</td>\n",
       "      <td>8</td>\n",
       "      <td>9</td>\n",
       "      <td>10</td>\n",
       "      <td>11</td>\n",
       "      <td>12</td>\n",
       "      <td>13</td>\n",
       "      <td>14</td>\n",
       "      <td>15</td>\n",
       "      <td>16</td>\n",
       "    </tr>\n",
       "    <tr>\n",
       "      <th>6</th>\n",
       "      <td>8</td>\n",
       "      <td>9</td>\n",
       "      <td>10</td>\n",
       "      <td>11</td>\n",
       "      <td>12</td>\n",
       "      <td>13</td>\n",
       "      <td>14</td>\n",
       "      <td>15</td>\n",
       "      <td>16</td>\n",
       "      <td>17</td>\n",
       "    </tr>\n",
       "    <tr>\n",
       "      <th>7</th>\n",
       "      <td>9</td>\n",
       "      <td>10</td>\n",
       "      <td>11</td>\n",
       "      <td>12</td>\n",
       "      <td>13</td>\n",
       "      <td>14</td>\n",
       "      <td>15</td>\n",
       "      <td>16</td>\n",
       "      <td>17</td>\n",
       "      <td>18</td>\n",
       "    </tr>\n",
       "    <tr>\n",
       "      <th>8</th>\n",
       "      <td>10</td>\n",
       "      <td>11</td>\n",
       "      <td>12</td>\n",
       "      <td>13</td>\n",
       "      <td>14</td>\n",
       "      <td>15</td>\n",
       "      <td>16</td>\n",
       "      <td>17</td>\n",
       "      <td>18</td>\n",
       "      <td>19</td>\n",
       "    </tr>\n",
       "  </tbody>\n",
       "</table>\n",
       "</div>"
      ],
      "text/plain": [
       "    1   2   3   4   5   6   7   8   9  10\n",
       "0   2   3   4   5   6   7   8   9  10  11\n",
       "1   3   4   5   6   7   8   9  10  11  12\n",
       "2   4   5   6   7   8   9  10  11  12  13\n",
       "3   5   6   7   8   9  10  11  12  13  14\n",
       "4   6   7   8   9  10  11  12  13  14  15\n",
       "5   7   8   9  10  11  12  13  14  15  16\n",
       "6   8   9  10  11  12  13  14  15  16  17\n",
       "7   9  10  11  12  13  14  15  16  17  18\n",
       "8  10  11  12  13  14  15  16  17  18  19"
      ]
     },
     "execution_count": 26,
     "metadata": {},
     "output_type": "execute_result"
    }
   ],
   "source": [
    "data"
   ]
  },
  {
   "cell_type": "code",
   "execution_count": 27,
   "metadata": {},
   "outputs": [],
   "source": [
    "# write csv\n",
    "data.to_csv ( 'data_from_pandas.csv' , sep=',' , index=False )"
   ]
  },
  {
   "cell_type": "code",
   "execution_count": 28,
   "metadata": {},
   "outputs": [],
   "source": [
    "# write to xls\n",
    "# Create a Pandas dataframe from the data.\n",
    "df = pd.DataFrame ( {'Data': [ 10 , 20 , 30 , 20 , 15 , 30 , 45 ]} )"
   ]
  },
  {
   "cell_type": "code",
   "execution_count": 29,
   "metadata": {},
   "outputs": [],
   "source": [
    "# Create a Pandas Excel writer using XlsxWriter as the engine.\n",
    "writer = pd.ExcelWriter ( 'pandas_simple.xlsx' , engine='xlsxwriter' )"
   ]
  },
  {
   "cell_type": "code",
   "execution_count": 30,
   "metadata": {},
   "outputs": [],
   "source": [
    "# Convert the dataframe to an XlsxWriter Excel object.\n",
    "df.to_excel ( writer , sheet_name='Sheet1' )\n"
   ]
  },
  {
   "cell_type": "code",
   "execution_count": 31,
   "metadata": {},
   "outputs": [],
   "source": [
    "# Close the Pandas Excel writer and output the Excel file.\n",
    "writer.save ()\n"
   ]
  },
  {
   "cell_type": "code",
   "execution_count": null,
   "metadata": {},
   "outputs": [],
   "source": []
  }
 ],
 "metadata": {
  "kernelspec": {
   "display_name": "Python 3",
   "language": "python",
   "name": "python3"
  },
  "language_info": {
   "codemirror_mode": {
    "name": "ipython",
    "version": 3
   },
   "file_extension": ".py",
   "mimetype": "text/x-python",
   "name": "python",
   "nbconvert_exporter": "python",
   "pygments_lexer": "ipython3",
   "version": "3.7.3"
  }
 },
 "nbformat": 4,
 "nbformat_minor": 2
}
